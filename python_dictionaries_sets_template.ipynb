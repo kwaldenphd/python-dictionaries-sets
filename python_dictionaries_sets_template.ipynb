{
  "cells": [
    {
      "cell_type": "markdown",
      "metadata": {
        "id": "view-in-github",
        "colab_type": "text"
      },
      "source": [
        "<a href=\"https://colab.research.google.com/github/kwaldenphd/python-dictionaries-sets/blob/master/python_dictionaries_sets_template.ipynb\" target=\"_parent\"><img src=\"https://colab.research.google.com/assets/colab-badge.svg\" alt=\"Open In Colab\"/></a>"
      ]
    },
    {
      "cell_type": "markdown",
      "metadata": {
        "id": "tvuAYfxrNBbg"
      },
      "source": [
        "# Dictionaries and Sets in Python\n",
        "\n",
        "Student Name: **Enter Your Name Here (Double click to edit)**\n",
        "<br>\n",
        "Net ID: **Enter Your NetID Here (Double click to edit)**\n",
        "<br>"
      ]
    },
    {
      "cell_type": "markdown",
      "source": [
        "## Lab Notebook Questions"
      ],
      "metadata": {
        "id": "RrQ6B76LNI4K"
      }
    },
    {
      "cell_type": "markdown",
      "metadata": {
        "id": "tFpjBRZKNBby"
      },
      "source": [
        "### <strong>Q1: Create a dictionary on a topic of your choosing. Include at least 7 key-value pairs.\n",
        "<ol type=\"a\">\n",
        " <li>Add new elements to your dictionary.</li>\n",
        " <li>Update an element in your dictionary.</li>\n",
        " <li>Print a list of all the keys in your dictionary.</li>\n",
        " <li>Print a list of all the values in your dictionary.</li>\n",
        " </ol></strong>"
      ]
    },
    {
      "cell_type": "markdown",
      "metadata": {
        "id": "ik0C6wzzNBb6"
      },
      "source": [
        "**AnswerQ1**: Your answer here (double click to edit)"
      ]
    },
    {
      "cell_type": "code",
      "execution_count": null,
      "metadata": {
        "id": "TY7nSyTCBldB"
      },
      "outputs": [],
      "source": [
        "# your codes here (double click to edit)\n",
        "\n",
        "# create dictionary\n",
        "\n",
        "# add new element\n",
        "\n",
        "# update element\n",
        "\n",
        "# output keys\n",
        "\n",
        "# output values"
      ]
    },
    {
      "cell_type": "markdown",
      "metadata": {
        "id": "Go4ROg7VNBcA"
      },
      "source": [
        "### <strong>Q2: Create the set `s` with the following values: `[1, 3, 5, 7, 9]`\n",
        "<ol type=\"a\">\n",
        "  <li>Test to see if the value <code>11</code> is a member of the set.</li>\n",
        "  <li>Test to see if the value <code>7</code> is a member of the set.</li>\n",
        "  <li>Add a value to the set.</li>\n",
        "  <li>Remove a value from the set.</li>\n",
        " </ol></strong>"
      ]
    },
    {
      "cell_type": "markdown",
      "metadata": {
        "id": "jGyil-iONBcB"
      },
      "source": [
        "**AnswerQ2**: Your answer here (double click to edit)"
      ]
    },
    {
      "cell_type": "code",
      "execution_count": null,
      "metadata": {
        "id": "SP-0UPmtBlx6"
      },
      "outputs": [],
      "source": [
        "# your codes here (double click to edit)\n",
        "\n",
        "# create set\n",
        "\n",
        "# test for 11\n",
        "\n",
        "# test for 7\n",
        "\n",
        "# add value\n",
        "\n",
        "# remove value"
      ]
    },
    {
      "cell_type": "markdown",
      "metadata": {
        "id": "nBSq5gUaNBcE"
      },
      "source": [
        "### **Q3: What is the difference between a `list` and a `dict`? When would we prefer one over the other?**"
      ]
    },
    {
      "cell_type": "markdown",
      "metadata": {
        "id": "SVFGlaUkNBcG"
      },
      "source": [
        "**AnswerQ3:** Your answer here (double click to edit)"
      ]
    },
    {
      "cell_type": "code",
      "execution_count": null,
      "metadata": {
        "id": "hZ7hNW_LNBcH"
      },
      "outputs": [],
      "source": [
        "# your codes here (if needed)"
      ]
    },
    {
      "cell_type": "markdown",
      "metadata": {
        "id": "r8d97vg2Bi4Z"
      },
      "source": [
        "### <strong>Q4: What is the difference between a `dict` and a `set`? When would we prefer one over the other?</strong>"
      ]
    },
    {
      "cell_type": "markdown",
      "metadata": {
        "id": "fBltajtCTdjp"
      },
      "source": [
        "**AnswerQ4:** Your answer here (double click to edit)"
      ]
    },
    {
      "cell_type": "code",
      "execution_count": null,
      "metadata": {
        "id": "HsO8EOQkTeFA"
      },
      "outputs": [],
      "source": [
        "# your codes here (if needed)"
      ]
    }
  ],
  "metadata": {
    "kernelspec": {
      "display_name": "Python 3",
      "language": "python",
      "name": "python3"
    },
    "language_info": {
      "codemirror_mode": {
        "name": "ipython",
        "version": 3
      },
      "file_extension": ".py",
      "mimetype": "text/x-python",
      "name": "python",
      "nbconvert_exporter": "python",
      "pygments_lexer": "ipython3",
      "version": "3.8.5"
    },
    "colab": {
      "name": "python-dictionaries-sets-template.ipynb",
      "provenance": [],
      "toc_visible": true,
      "include_colab_link": true
    }
  },
  "nbformat": 4,
  "nbformat_minor": 0
}