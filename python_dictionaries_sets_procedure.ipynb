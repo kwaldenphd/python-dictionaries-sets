{
  "cells": [
    {
      "cell_type": "markdown",
      "metadata": {
        "id": "view-in-github",
        "colab_type": "text"
      },
      "source": [
        "<a href=\"https://colab.research.google.com/github/kwaldenphd/python-dictionaries-sets/blob/master/python_dictionaries_sets_procedure.ipynb\" target=\"_parent\"><img src=\"https://colab.research.google.com/assets/colab-badge.svg\" alt=\"Open In Colab\"/></a>"
      ]
    },
    {
      "cell_type": "markdown",
      "source": [
        "# Dictionaries and Sets in Python\n",
        "\n",
        "<a href=\"http://creativecommons.org/licenses/by-nc/4.0/\" rel=\"license\"><img style=\"border-width: 0;\" src=\"https://i.creativecommons.org/l/by-nc/4.0/88x31.png\" alt=\"Creative Commons License\" /></a>\n",
        "This tutorial is licensed under a <a href=\"http://creativecommons.org/licenses/by-nc/4.0/\" rel=\"license\">Creative Commons Attribution-NonCommercial 4.0 International License</a>."
      ],
      "metadata": {
        "id": "rlh7_2SVTx1z"
      }
    },
    {
      "cell_type": "markdown",
      "source": [
        "## Lab Objectives\n",
        "- Define dictionaries in the Python programming language\n",
        "- Practice utilizing dictionaries and sets in the Python programming language\n",
        "  * For dictionaries, this includes basic syntax, ordering, adding key-value pairs, updating, lists, and iteration\n",
        "  * For sets, this includes basic syntax, adding and removing, and testing for membership\n",
        "- Use Python methods and functions to work with dictionaries and sets\n",
        "\n",
        "<table>\n",
        " <tr><td>\n",
        "<img src=\"https://elearn.southampton.ac.uk/wp-content/blogs.dir/sites/64/2021/04/PanPan.png\" alt=\"Panopto logo\" width=\"50\"/></td>\n",
        "  <td><a href=\"https://notredame.hosted.panopto.com/Panopto/Pages/Viewer.aspx?id=df2efb55-a837-454e-910d-ad820163cda5\">Lab overview</a></td>\n",
        "  </tr>\n",
        "  </table>\n",
        "  \n",
        "<table>\n",
        " <tr><td>\n",
        "<img src=\"https://elearn.southampton.ac.uk/wp-content/blogs.dir/sites/64/2021/04/PanPan.png\" alt=\"Panopto logo\" width=\"50\"/></td>\n",
        "<td><a href=\"https://notredame.hosted.panopto.com/Panopto/Pages/Viewer.aspx?pid=266f95e7-65bd-4718-9a97-ae300135e32a\">Lecture/live coding playlist</a></td>\n",
        "  </tr>\n",
        "  </table>"
      ],
      "metadata": {
        "id": "Pnz-lYu1Ty08"
      }
    },
    {
      "cell_type": "markdown",
      "source": [
        "## Acknowledgements\n",
        "\n",
        "Elements of this lab procedure were adapted from materials developed by [Dr. Peter Bui](http://www3.nd.edu/~pbui/) for the [CSE 10101 \"Elements of Computing I\" course](https://www3.nd.edu/~pbui/teaching/cdt.30010.fa16/).\n",
        "- [Reading 06: Dictionaries, Sets](https://www3.nd.edu/~pbui/teaching/cdt.30010.fa16/reading06.html)\n",
        "\n",
        "Elements of this lab procedure were adapted from materials developed by [Dr. Janet Davis](https://cs.whitman.edu/~davisj/) for the the [CSC 105 \"The Digital Age\" course](https://www.cs.grinnell.edu/~davisjan/csc/105/2012S/). \n",
        "- [Laboratory: Programming in Python](http://www.cs.grinnell.edu/~davisjan/csc/105/labs/python1.html)\n",
        "\n",
        "Elements of this lab procedure were adapted from materials developed by [Dr. Corey Pennycuff](https://www3.nd.edu/~cpennycu/) for the [CSE 10101 Elements of Computing (Fall 2019)](https://www3.nd.edu/~cpennycu/2019/fa-CSE10101-CDT30010.html).\n",
        "\n",
        "Elements of this lab procedure were adapted from materials developed by [Lindsay K. Mattock](http://lindsaymattock.net/) for the the [SLIS 5020 Computing Foundations course](http://lindsaymattock.net/computingfoundations.html). "
      ],
      "metadata": {
        "id": "TQMWxFxhTz68"
      }
    },
    {
      "cell_type": "markdown",
      "source": [
        "# Lecture and Live Coding\n",
        "\n",
        "Throughout this lab, you will see a Panopto icon at the start of select sections.\n",
        "\n",
        "This icon indicates there is lecture/live coding asynchronous content that accompanies this section of the lab. \n",
        "\n",
        "You can click the link in the figure caption to access these materials (ND users only).\n",
        "\n",
        "Example:\n",
        "\n",
        "<table>\n",
        " <tr><td>\n",
        "<img src=\"https://elearn.southampton.ac.uk/wp-content/blogs.dir/sites/64/2021/04/PanPan.png\" alt=\"Panopto logo\" width=\"50\"/></td>\n",
        "  <td><a href=\"https://notredame.hosted.panopto.com/Panopto/Pages/Viewer.aspx?id=df2efb55-a837-454e-910d-ad820163cda5\">Lab overview</a></td>\n",
        "  </tr>\n",
        "  </table>\n",
        "  \n",
        "<table>\n",
        " <tr><td>\n",
        "<img src=\"https://elearn.southampton.ac.uk/wp-content/blogs.dir/sites/64/2021/04/PanPan.png\" alt=\"Panopto logo\" width=\"50\"/></td>\n",
        "<td><a href=\"https://notredame.hosted.panopto.com/Panopto/Pages/Viewer.aspx?pid=266f95e7-65bd-4718-9a97-ae300135e32a\">Lecture/live coding playlist</a></td>\n",
        "  </tr>\n",
        "  </table>"
      ],
      "metadata": {
        "id": "8ZRz_WKQT1Rn"
      }
    },
    {
      "cell_type": "markdown",
      "source": [
        "# Lab Notebook Template\n",
        "\n",
        "Lab notebook template:\n",
        "- [`.py` file](https://drive.google.com/file/d/1SzNANtFLxwt0trPVVYyLRBHzQJ6ixOUE/view?usp=sharing)\n",
        "- [Jupyter Notebook](https://drive.google.com/file/d/1t5_e7qMH-filkLUpPkl2O4ae5UlzWT4p/view?usp=sharing)"
      ],
      "metadata": {
        "id": "KlManbnzT2hy"
      }
    },
    {
      "cell_type": "markdown",
      "source": [
        "# Dictionaries\n",
        "\n",
        "<table>\n",
        " <tr><td>\n",
        "<img src=\"https://elearn.southampton.ac.uk/wp-content/blogs.dir/sites/64/2021/04/PanPan.png\" alt=\"Panopto logo\" width=\"50\"/></td>\n",
        "  <td><a href=\"https://notredame.hosted.panopto.com/Panopto/Pages/Viewer.aspx?id=5a24f407-5860-4d8b-8aea-ad8201622e0f\">Dictionaries</a></td>\n",
        "  </tr>\n",
        "  </table>\n",
        "\n",
        "<p align=\"center\"><a href=\"https://github.com/kwaldenphd/python-dictionaries-sets/blob/master/figures/Dic_1.png?raw=true\"><img class=\"aligncenter\" src=\"https://github.com/kwaldenphd/python-dictionaries-sets/blob/master/figures/Dic_1.png?raw=true\" /></a></p>\n",
        "\n",
        "<p align=\"center\"><a href=\"https://github.com/kwaldenphd/python-dictionaries-sets/blob/master/figures/Dic_2.png?raw=true\"><img class=\"aligncenter\" src=\"https://github.com/kwaldenphd/python-dictionaries-sets/blob/master/figures/Dic_2.png?raw=true\" /></a></p>\n",
        "\n",
        "1. A dictionary is a mapping between a set of indices (keys) and a set of values. \n",
        "\n",
        "2. Each key maps to a value. \n",
        "\n",
        "3.  The association of a key and a value is called a key-value pair."
      ],
      "metadata": {
        "id": "sEfbvhX3T3gQ"
      }
    },
    {
      "cell_type": "markdown",
      "source": [
        "## Creating a Dictionary\n",
        "\n",
        "4. We have two options for creating a dictionary.\n",
        "\n",
        "5. We can use the `dict()` function or the `{}` syntax.\n",
        "\n",
        "6. Examples for each:"
      ],
      "metadata": {
        "id": "J5KD_zbOT4cJ"
      }
    },
    {
      "cell_type": "code",
      "source": [
        "# creating empty dictionary using dict()\n",
        "english_to_french = dict({})\n",
        "\n",
        "# check variable type\n",
        "type(english_to_french)\n",
        "\n",
        "# create dictionary this time with key-value pairs\n",
        "english_to_french = dict({\n",
        "  'one': 'un',\n",
        "  'two': 'deux',\n",
        "  'three': 'trois',\n",
        "  'four': 'quatre',\n",
        "  'five': 'cinq'\n",
        "})"
      ],
      "metadata": {
        "id": "TlS7Cbd8T5Yj"
      },
      "execution_count": null,
      "outputs": []
    },
    {
      "cell_type": "code",
      "source": [
        "# create empty dictionary using curly brackets {}\n",
        "english_to_french = {}\n",
        "\n",
        "# check variable type\n",
        "type(english_to_french)\n",
        "\n",
        "# create dictionary this time with key-value pairs\n",
        "english_to_french = {\n",
        "  'one': 'un',\n",
        "  'two': 'deux',\n",
        "  'three': 'trois',\n",
        "  'four': 'quatre',\n",
        "  'five': 'cinq'\n",
        "}"
      ],
      "metadata": {
        "id": "etKRNxUXT6Qo"
      },
      "execution_count": null,
      "outputs": []
    },
    {
      "cell_type": "markdown",
      "source": [
        "## Interacting With A Dictionary\n",
        "\n",
        "7. Now that we have a dictionary, we can start to bring in some of the syntax covered in previous labs.\n"
      ],
      "metadata": {
        "id": "_TOTr0EGT7R0"
      }
    },
    {
      "cell_type": "code",
      "source": [
        "print(english_to_french)"
      ],
      "metadata": {
        "id": "4m1QZOCTT78L"
      },
      "execution_count": null,
      "outputs": []
    },
    {
      "cell_type": "markdown",
      "source": [
        "8. Notice that when we print the dictionary, the key-value pairs are **unsorted** and do not appear in the order in which we added them.\n",
        "\n",
        "9. Due to the nature of the dictionary data structure, we cannot make any assumptions about the order in which items appear in the dictionary.\n",
        "\n",
        "10. We can use the index operator to read the value for a particular key."
      ],
      "metadata": {
        "id": "pwAaliKuT8v-"
      }
    },
    {
      "cell_type": "code",
      "source": [
        "# access value for 'one' key\n",
        "english_to_french['one']"
      ],
      "metadata": {
        "id": "bjnBpLmST-WC"
      },
      "execution_count": null,
      "outputs": []
    },
    {
      "cell_type": "markdown",
      "source": [
        "11. If we try to access the value for a key that does not exist, Python will return a KeyError.\n"
      ],
      "metadata": {
        "id": "IOLZX8xjT_Cj"
      }
    },
    {
      "cell_type": "code",
      "source": [
        "# code that will return a key error\n",
        "english_to_french['asdf']"
      ],
      "metadata": {
        "id": "5Eas2u74UH0m"
      },
      "execution_count": null,
      "outputs": []
    },
    {
      "cell_type": "markdown",
      "source": [
        "12. We can test for membership using  the `in` operator.\n"
      ],
      "metadata": {
        "id": "BPzfd4XAUIY2"
      }
    },
    {
      "cell_type": "code",
      "source": [
        "# check for 'asdf' string\n",
        "'asdf' in english_to_french\n",
        "\n",
        "# check for 'one' string\n",
        "'one' in english_to_french\n",
        "\n",
        "# check for 'un' string\n",
        "'un' in english_to_french"
      ],
      "metadata": {
        "id": "LpyTl5fGUJYA"
      },
      "execution_count": null,
      "outputs": []
    },
    {
      "cell_type": "markdown",
      "source": [
        "13. Each of these commands returns a Boolean `True` or `False` value.\n",
        "\n",
        "14. Notice the last command returned `False` because the `in` operator is looking at keys, not values in the dictionary.\n",
        "\n",
        "15. We can use the `.keys()` method to get a list of all keys in the dictionary.\n"
      ],
      "metadata": {
        "id": "KM7Owsy-Umb1"
      }
    },
    {
      "cell_type": "code",
      "source": [
        "# output keys in dictionary\n",
        "print(english_to_french.keys())"
      ],
      "metadata": {
        "id": "fuWJkeXAUnJy"
      },
      "execution_count": null,
      "outputs": []
    },
    {
      "cell_type": "markdown",
      "source": [
        "16. We can use the `.values()` method to get a list of all the values in the dictionary.\n"
      ],
      "metadata": {
        "id": "zq_mxCObUoFB"
      }
    },
    {
      "cell_type": "code",
      "source": [
        "# output values in dictionary\n",
        "print(english_to_french.values())"
      ],
      "metadata": {
        "id": "IhS612V7Uo7p"
      },
      "execution_count": null,
      "outputs": []
    },
    {
      "cell_type": "markdown",
      "source": [
        "17. We can also add key-value pairs to our dictionary using the index operator and an assignment statement.\n",
        "\n",
        "18. To see that in Python syntax:\n"
      ],
      "metadata": {
        "id": "h_NYaGdhUpyw"
      }
    },
    {
      "cell_type": "code",
      "source": [
        "# add key-values pairs to dictionary\n",
        "english_to_french['six']   = 'six'\n",
        "english_to_french['seven'] = 'sept'\n",
        "english_to_french['eight'] = 'huit'\n",
        "english_to_french['nine']  = 'neuf'\n",
        "english_to_french['ten']   = 'dix'\n",
        "\n",
        "# show updated dictionary\n",
        "print(english_to_french)"
      ],
      "metadata": {
        "id": "7MsBRG1zUqsW"
      },
      "execution_count": null,
      "outputs": []
    },
    {
      "cell_type": "markdown",
      "source": [
        "\n",
        "19. The first part of each line of code creates a new key and assigns the value (the string to the right of the assignment operator, or equals sign) to that key, giving us a new key-value pair.\n",
        "\n",
        "## Iteration and Dictionaries\n",
        "\n",
        "20. The previous lab talked about the concept of \"iteration,\" and we're going to see it at work here as well.\n",
        "\n",
        "21. Say we wanted to iterate by keys through our dictionary.\n",
        "\n",
        "22. We could use a `for` loop to tell Python \"`FOR` each key-value pair in my dictionary...do this thing!\"\n",
        "\n",
        "23. An example that tells Python to print the key for each key-value pair."
      ],
      "metadata": {
        "id": "VzFM78BmUrnt"
      }
    },
    {
      "cell_type": "code",
      "source": [
        "# for loop that outputs keys\n",
        "for key in english_to_french.keys():\n",
        "  print(key)"
      ],
      "metadata": {
        "id": "_JflwNf1Usl-"
      },
      "execution_count": null,
      "outputs": []
    },
    {
      "cell_type": "markdown",
      "source": [
        "24. We could modify the print statement nested in the for loop to output the key and value.\n"
      ],
      "metadata": {
        "id": "C59ZPee9UwFP"
      }
    },
    {
      "cell_type": "code",
      "source": [
        "# for loop that outputs key-value pairs\n",
        "for key in english_to_french.keys():\n",
        "  print(key, english_to_french[key])"
      ],
      "metadata": {
        "id": "Sl5zrufIUtQr"
      },
      "execution_count": null,
      "outputs": []
    },
    {
      "cell_type": "markdown",
      "source": [
        "25. And, we wouldn't actually need to use the `.keys()` method when iterating by keys.\n"
      ],
      "metadata": {
        "id": "vaK2ReYBUwwE"
      }
    },
    {
      "cell_type": "code",
      "source": [
        "# alternate syntax for outputting key-value pairs\n",
        "for key in english_to_french:\n",
        "  print(key, english_to_french[key])"
      ],
      "metadata": {
        "id": "x_AFknn2Ut-W"
      },
      "execution_count": null,
      "outputs": []
    },
    {
      "cell_type": "markdown",
      "source": [
        "26. We can also iterate by key-value pairs, using the `.items()` method.\n"
      ],
      "metadata": {
        "id": "D38N90INUxtR"
      }
    },
    {
      "cell_type": "code",
      "source": [
        "# for loop that outputs key-value pairs using items\n",
        "for key, value, in english_to_french.items():\n",
        "  print(key, value)"
      ],
      "metadata": {
        "id": "pJMSirNMUu6i"
      },
      "execution_count": null,
      "outputs": []
    },
    {
      "cell_type": "markdown",
      "source": [
        "27. In this example, we told Python to look at the key and value in each key-value pair and print the pair.\n",
        "\n",
        "## Dictionary Lab Notebook Question\n",
        "\n",
        "Q1: Create a dictionary on a topic of your choosing. Include at least 7 key-value pairs.\n",
        "<ol type=\"a\">\n",
        " <li>Add new elements to your dictionary.</li>\n",
        " <li>Update an element in your dictionary.</li>\n",
        " <li>Print a list of all the keys in your dictionary.</li>\n",
        " <li>Print a list of all the values in your dictionary.</li>\n",
        " </ol>\n",
        " "
      ],
      "metadata": {
        "id": "tiV1ttNcUzVt"
      }
    },
    {
      "cell_type": "markdown",
      "source": [
        "# Sets\n",
        "\n",
        "<table>\n",
        " <tr><td>\n",
        "<img src=\"https://elearn.southampton.ac.uk/wp-content/blogs.dir/sites/64/2021/04/PanPan.png\" alt=\"Panopto logo\" width=\"50\"/></td>\n",
        "  <td><a href=\"https://notredame.hosted.panopto.com/Panopto/Pages/Viewer.aspx?id=5a24f407-5860-4d8b-8aea-ad8201622e0f\">Sets</a></td>\n",
        "  </tr>\n",
        "  </table>\n",
        "\n",
        "28. A set is an unordered collection of unique objects. Sets are primarily used to see if an object or value is in the collection (membership).\n",
        "\n",
        "<p align=\"center\"><a href=\"https://github.com/kwaldenphd/python-dictionaries-sets/blob/master/figures/Sets.png?raw=true\"><img class=\"aligncenter\" src=\"https://github.com/kwaldenphd/python-dictionaries-sets/blob/master/figures/Sets.png?raw=true\" /></a></p>\n",
        "\n",
        "29. There are many different types of set operations, but this lab is just going to focus on testing for membership.\n",
        "\n",
        "30. That is, looking to see if a particular value is `in` a set.\n",
        "\n",
        "31. HINT: We've seen `in` operators before..."
      ],
      "metadata": {
        "id": "fiZ3qxyuU0p7"
      }
    },
    {
      "cell_type": "markdown",
      "source": [
        "## Creating Sets \n",
        "\n",
        "32. We can create the set using `set()`"
      ],
      "metadata": {
        "id": "ZCzVPRL6U12U"
      }
    },
    {
      "cell_type": "code",
      "source": [
        "# create empty set and assign to s variable\n",
        "s = set()\n",
        "\n",
        "# check s variable type\n",
        "type(s)\n",
        "\n",
        "# create set with values\n",
        "s = set([0,1,2])\n",
        "\n",
        "# show set values\n",
        "s"
      ],
      "metadata": {
        "id": "dQiGRe2FU26V"
      },
      "execution_count": null,
      "outputs": []
    },
    {
      "cell_type": "markdown",
      "source": [
        "## Testing for Membership\n",
        "\n",
        "33. Now that we have a set with values, we can test for membership using the `in` operator.\n"
      ],
      "metadata": {
        "id": "1pcfB_R3U3vf"
      }
    },
    {
      "cell_type": "code",
      "source": [
        "# create set with values\n",
        "s = set([0, 1, 2])\n",
        "\n",
        "# test if 0 is in s\n",
        "0 in s\n",
        "\n",
        "# test if 7 is in s\n",
        "7 in s"
      ],
      "metadata": {
        "id": "1femfsh4U4w0"
      },
      "execution_count": null,
      "outputs": []
    },
    {
      "cell_type": "markdown",
      "source": [
        "34. The last two lines of code return Boolean `True` or `False` statements.\n",
        "\n",
        "## Adding and Removing Items \n",
        "\n",
        "35. We can add items to our set using `.add()`."
      ],
      "metadata": {
        "id": "9L_UKsn6U5zP"
      }
    },
    {
      "cell_type": "code",
      "source": [
        "# create empty set\n",
        "s = set()\n",
        "\n",
        "# add values to set\n",
        "s.add(0)\n",
        "s.add(1)\n",
        "s.add(2)\n",
        "\n",
        "# show new set with values\n",
        "s"
      ],
      "metadata": {
        "id": "RZYtXeCnU6oI"
      },
      "execution_count": null,
      "outputs": []
    },
    {
      "cell_type": "markdown",
      "source": [
        "36. We can also remove values from our set using `.remove()`.\n"
      ],
      "metadata": {
        "id": "wLc2TXCOU7a5"
      }
    },
    {
      "cell_type": "code",
      "source": [
        "# create set with values\n",
        "s = set([0, 1, 2])\n",
        "\n",
        "# remove 1 number value from set\n",
        "s.remove(1)\n",
        "\n",
        "# show updated set\n",
        "s"
      ],
      "metadata": {
        "id": "A_nWwFmYU8Ph"
      },
      "execution_count": null,
      "outputs": []
    },
    {
      "cell_type": "markdown",
      "source": [
        "## Set Lab Notebook Question\n",
        "\n",
        "Q2: Create the set `s` with the following values: `[1, 3, 5, 7, 9]`\n",
        "<ol type=\"a\">\n",
        "  <li>Test to see if the value <code>11</code> is a member of the set.</li>\n",
        "  <li>Test to see if the value <code>7</code> is a member of the set.</li>\n",
        "  <li>Add a value to the set.</li>\n",
        "  <li>Remove a value from the set.</li>\n",
        " </ol>"
      ],
      "metadata": {
        "id": "el4mj8U2U9CW"
      }
    },
    {
      "cell_type": "markdown",
      "source": [
        "# Additional Lab Notebook Questions\n",
        "\n",
        "Q3: What is the difference between a `list` and a `dict`? When would we prefer one over the other?\n",
        "\n",
        "Q4: What is the difference between a `dict` and a `set`? When would we prefer one over the other?\n",
        "\n",
        "Q5: Include a link to your Replit project workspace."
      ],
      "metadata": {
        "id": "iuSbvllrU-FY"
      }
    },
    {
      "cell_type": "markdown",
      "source": [
        "# How to submit this lab (and show your work)\n",
        "\n",
        "Moving forward, we'll submit lab notebooks as `.py` files. \n",
        "\n",
        "One option is to have a `.py` file that you use to run code and test programs while working through the lab. When ready to submit the lab notebook, you add comments and remove extraneous materials.\n",
        "\n",
        "Another option is to have an \"official\" `.py` file that you are using as a lab notebook (separate from your working/testing file). Use comments in Python to note when you are starting a new question (as well as answering a question).\n",
        "  * Example: `Lab5_Notebook_Walden.py`\n",
        "\n",
        "What gets submitted as the lab notebook is the `Lab5_Notebook_Walden.py` file.\n",
        "- When in doubt, use comments\n",
        "- Be sure you are using comments to note what question you're responding to\n"
      ],
      "metadata": {
        "id": "IKiSAkLjU_KF"
      }
    },
    {
      "cell_type": "markdown",
      "source": [
        "# Lab Notebook Questions\n",
        "\n",
        "Lab notebook template:\n",
        "- [`.py` file](https://drive.google.com/file/d/1SzNANtFLxwt0trPVVYyLRBHzQJ6ixOUE/view?usp=sharing)\n",
        "- [Jupyter Notebook](https://drive.google.com/file/d/1t5_e7qMH-filkLUpPkl2O4ae5UlzWT4p/view?usp=sharing)\n",
        "\n",
        "Q1: Create a dictionary on a topic of your choosing. Include at least 7 key-value pairs.\n",
        "<ol type=\"a\">\n",
        " <li>Add new elements to your dictionary.</li>\n",
        " <li>Update an element in your dictionary.</li>\n",
        " <li>Print a list of all the keys in your dictionary.</li>\n",
        " <li>Print a list of all the values in your dictionary.</li>\n",
        " </ol>\n",
        "\n",
        "Q2: Create the set `s` with the following values: `[1, 3, 5, 7, 9]`\n",
        "<ol type=\"a\">\n",
        "  <li>Test to see if the value <code>11</code> is a member of the set.</li>\n",
        "  <li>Test to see if the value <code>7</code> is a member of the set.</li>\n",
        "  <li>Add a value to the set.</li>\n",
        "  <li>Remove a value from the set.</li>\n",
        " </ol>\n",
        "  \n",
        "Q3: What is the difference between a `list` and a `dict`? When would we prefer one over the other?\n",
        "\n",
        "Q4: What is the difference between a `dict` and a `set`? When would we prefer one over the other?\n",
        "\n",
        "Q5: Include a link to your Replit project workspace."
      ],
      "metadata": {
        "id": "k9HxBUvdVAWT"
      }
    }
  ],
  "metadata": {
    "kernelspec": {
      "display_name": "Python 3",
      "language": "python",
      "name": "python3"
    },
    "language_info": {
      "codemirror_mode": {
        "name": "ipython",
        "version": 3
      },
      "file_extension": ".py",
      "mimetype": "text/x-python",
      "name": "python",
      "nbconvert_exporter": "python",
      "pygments_lexer": "ipython3",
      "version": "3.8.5"
    },
    "colab": {
      "name": "python-dictionaries-sets-procedure.ipynb",
      "provenance": [],
      "toc_visible": true,
      "include_colab_link": true
    }
  },
  "nbformat": 4,
  "nbformat_minor": 0
}